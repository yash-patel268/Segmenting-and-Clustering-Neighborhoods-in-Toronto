{
 "cells": [
  {
   "cell_type": "markdown",
   "metadata": {},
   "source": [
    "# Segmenting and Clustering Neighborhoods in Toronto"
   ]
  },
  {
   "cell_type": "markdown",
   "metadata": {},
   "source": [
    "<h3>Introduction</h3>\n",
    "<p>\n",
    "This is an assignment for the Introduction to Artifical Intelligence course (SOFE 3720U). Within this we will be explore how to segement and cluster the neighborhoods in Toronto. \n",
    "</p>"
   ]
  },
  {
   "cell_type": "markdown",
   "metadata": {},
   "source": [
    "<h3>Import Statements</h3>"
   ]
  },
  {
   "cell_type": "code",
   "execution_count": 3,
   "metadata": {},
   "outputs": [
    {
     "name": "stdout",
     "output_type": "stream",
     "text": [
      "Libraries Imported\n"
     ]
    }
   ],
   "source": [
    "from dotenv import load_dotenv\n",
    "from dotenv import dotenv_values\n",
    "\n",
    "import numpy as np\n",
    "\n",
    "import pandas as pd\n",
    "pd.set_option('display.max_columns', None)\n",
    "pd.set_option('display.max_rows', None)\n",
    "\n",
    "import json\n",
    "import geojson\n",
    "\n",
    "import requests\n",
    "from pandas import json_normalize\n",
    "\n",
    "import folium\n",
    "\n",
    "from bs4 import BeautifulSoup as bs\n",
    "\n",
    "print('Libraries Imported')"
   ]
  },
  {
   "cell_type": "markdown",
   "metadata": {},
   "source": [
    "<h3>Week 1 - Foursquare API</h3>\n",
    "<p>\n",
    "Within this section we will be using the Foursquare API to find latitude, longitude, and venues within the Toronto area.\n",
    "</p>"
   ]
  },
  {
   "cell_type": "markdown",
   "metadata": {},
   "source": [
    "<h4>\n",
    "Setting up Foursquare API\n",
    "</h4>"
   ]
  },
  {
   "cell_type": "code",
   "execution_count": 4,
   "metadata": {},
   "outputs": [],
   "source": [
    "config = dotenv_values(\".env\")\n",
    "url = \"https://api.foursquare.com/v3/places/nearby\"\n",
    "\n",
    "headers = {\"Accept\": \"application/json\",\n",
    "            \"Authorization\": config[\"API_KEY\"]}\n",
    "\n",
    "response = requests.request(\"GET\", url, headers=headers)\n",
    "\n",
    "def findNearbyVenues(location, categories, limit):\n",
    "    url = \"https://api.foursquare.com/v3/places/search?\" + \"categories=\" + categories + \"&near=\" + str(location[0]) + \"%2C\" + str(location[1]) + \"&limit=\" + limit\n",
    "    response = requests.request(\"GET\", url, headers=headers)\n",
    "\n",
    "    if(response.status_code == 200):\n",
    "        return response.json()\n",
    "    else:\n",
    "        return False"
   ]
  },
  {
   "cell_type": "markdown",
   "metadata": {},
   "source": [
    "<h4>\n",
    "Creating dataframe using the function created to use Foursquare API\n",
    "</h4>"
   ]
  },
  {
   "cell_type": "code",
   "execution_count": 9,
   "metadata": {},
   "outputs": [
    {
     "data": {
      "text/html": [
       "<div>\n",
       "<style scoped>\n",
       "    .dataframe tbody tr th:only-of-type {\n",
       "        vertical-align: middle;\n",
       "    }\n",
       "\n",
       "    .dataframe tbody tr th {\n",
       "        vertical-align: top;\n",
       "    }\n",
       "\n",
       "    .dataframe thead th {\n",
       "        text-align: right;\n",
       "    }\n",
       "</style>\n",
       "<table border=\"1\" class=\"dataframe\">\n",
       "  <thead>\n",
       "    <tr style=\"text-align: right;\">\n",
       "      <th></th>\n",
       "      <th>fsq_id</th>\n",
       "      <th>name</th>\n",
       "      <th>geocodes.roof.latitude</th>\n",
       "      <th>geocodes.roof.longitude</th>\n",
       "      <th>location.country</th>\n",
       "      <th>location.locality</th>\n",
       "      <th>location.neighborhood</th>\n",
       "      <th>location.postcode</th>\n",
       "      <th>location.region</th>\n",
       "      <th>related_places.children</th>\n",
       "      <th>related_places.parent.fsq_id</th>\n",
       "      <th>related_places.parent.name</th>\n",
       "      <th>location.po_box</th>\n",
       "    </tr>\n",
       "  </thead>\n",
       "  <tbody>\n",
       "    <tr>\n",
       "      <th>0</th>\n",
       "      <td>4adcfd7cf964a5203e6321e3</td>\n",
       "      <td>Fiesta Farms</td>\n",
       "      <td>43.668877</td>\n",
       "      <td>-79.420664</td>\n",
       "      <td>CA</td>\n",
       "      <td>Toronto</td>\n",
       "      <td>[Christie Pitts]</td>\n",
       "      <td>M6G 3B6</td>\n",
       "      <td>ON</td>\n",
       "      <td>NaN</td>\n",
       "      <td>NaN</td>\n",
       "      <td>NaN</td>\n",
       "      <td>NaN</td>\n",
       "    </tr>\n",
       "    <tr>\n",
       "      <th>1</th>\n",
       "      <td>4ad4c062f964a52002f820e3</td>\n",
       "      <td>Yorkdale</td>\n",
       "      <td>NaN</td>\n",
       "      <td>NaN</td>\n",
       "      <td>CA</td>\n",
       "      <td>Toronto</td>\n",
       "      <td>[Downsview]</td>\n",
       "      <td>M6A 2T9</td>\n",
       "      <td>ON</td>\n",
       "      <td>[{'fsq_id': '51ab9740498e5d77772d110b', 'name'...</td>\n",
       "      <td>NaN</td>\n",
       "      <td>NaN</td>\n",
       "      <td>NaN</td>\n",
       "    </tr>\n",
       "    <tr>\n",
       "      <th>2</th>\n",
       "      <td>580a6d5fd67cd1299d4aa14f</td>\n",
       "      <td>Uniqlo ユニクロ</td>\n",
       "      <td>NaN</td>\n",
       "      <td>NaN</td>\n",
       "      <td>CA</td>\n",
       "      <td>Toronto</td>\n",
       "      <td>[Lawrence Heights, Toronto, ON]</td>\n",
       "      <td>M6A 2T9</td>\n",
       "      <td>ON</td>\n",
       "      <td>NaN</td>\n",
       "      <td>4ad4c062f964a52002f820e3</td>\n",
       "      <td>Yorkdale</td>\n",
       "      <td>NaN</td>\n",
       "    </tr>\n",
       "    <tr>\n",
       "      <th>3</th>\n",
       "      <td>5a6f54bbf193c029b1ecd567</td>\n",
       "      <td>Loblaws</td>\n",
       "      <td>43.661965</td>\n",
       "      <td>-79.379811</td>\n",
       "      <td>CA</td>\n",
       "      <td>Toronto</td>\n",
       "      <td>NaN</td>\n",
       "      <td>M5B 1J2</td>\n",
       "      <td>ON</td>\n",
       "      <td>[{'fsq_id': '4ed6319130f813e77a9f8a3b', 'name'...</td>\n",
       "      <td>NaN</td>\n",
       "      <td>NaN</td>\n",
       "      <td>NaN</td>\n",
       "    </tr>\n",
       "    <tr>\n",
       "      <th>4</th>\n",
       "      <td>4ad77a12f964a520260b21e3</td>\n",
       "      <td>CF Toronto Eaton Centre</td>\n",
       "      <td>43.653807</td>\n",
       "      <td>-79.380056</td>\n",
       "      <td>CA</td>\n",
       "      <td>Toronto</td>\n",
       "      <td>[Eaton Centre]</td>\n",
       "      <td>M5B 2H1</td>\n",
       "      <td>ON</td>\n",
       "      <td>[{'fsq_id': '531e0a48498e172fbe0c59da', 'name'...</td>\n",
       "      <td>NaN</td>\n",
       "      <td>NaN</td>\n",
       "      <td>PO Box 511</td>\n",
       "    </tr>\n",
       "  </tbody>\n",
       "</table>\n",
       "</div>"
      ],
      "text/plain": [
       "                     fsq_id                     name  geocodes.roof.latitude  \\\n",
       "0  4adcfd7cf964a5203e6321e3             Fiesta Farms               43.668877   \n",
       "1  4ad4c062f964a52002f820e3                 Yorkdale                     NaN   \n",
       "2  580a6d5fd67cd1299d4aa14f              Uniqlo ユニクロ                     NaN   \n",
       "3  5a6f54bbf193c029b1ecd567                  Loblaws               43.661965   \n",
       "4  4ad77a12f964a520260b21e3  CF Toronto Eaton Centre               43.653807   \n",
       "\n",
       "   geocodes.roof.longitude location.country location.locality  \\\n",
       "0               -79.420664               CA           Toronto   \n",
       "1                      NaN               CA           Toronto   \n",
       "2                      NaN               CA           Toronto   \n",
       "3               -79.379811               CA           Toronto   \n",
       "4               -79.380056               CA           Toronto   \n",
       "\n",
       "             location.neighborhood location.postcode location.region  \\\n",
       "0                 [Christie Pitts]           M6G 3B6              ON   \n",
       "1                      [Downsview]           M6A 2T9              ON   \n",
       "2  [Lawrence Heights, Toronto, ON]           M6A 2T9              ON   \n",
       "3                              NaN           M5B 1J2              ON   \n",
       "4                   [Eaton Centre]           M5B 2H1              ON   \n",
       "\n",
       "                             related_places.children  \\\n",
       "0                                                NaN   \n",
       "1  [{'fsq_id': '51ab9740498e5d77772d110b', 'name'...   \n",
       "2                                                NaN   \n",
       "3  [{'fsq_id': '4ed6319130f813e77a9f8a3b', 'name'...   \n",
       "4  [{'fsq_id': '531e0a48498e172fbe0c59da', 'name'...   \n",
       "\n",
       "  related_places.parent.fsq_id related_places.parent.name location.po_box  \n",
       "0                          NaN                        NaN             NaN  \n",
       "1                          NaN                        NaN             NaN  \n",
       "2     4ad4c062f964a52002f820e3                   Yorkdale             NaN  \n",
       "3                          NaN                        NaN             NaN  \n",
       "4                          NaN                        NaN      PO Box 511  "
      ]
     },
     "execution_count": 9,
     "metadata": {},
     "output_type": "execute_result"
    }
   ],
   "source": [
    "latitude = 43.6532 \n",
    "longitude = -79.3832\n",
    "results = findNearbyVenues(location = [\"Toronto\", \"ON\"], categories=\"17000\", limit=\"50\")\n",
    "\n",
    "venuesdf = json_normalize(results['results'], max_level=3)\n",
    "venuesdf.drop(venuesdf.columns[[1,2,3,5,6,7,10,12,13,18]], axis=1, inplace=True)\n",
    "venuesdf.head()"
   ]
  },
  {
   "cell_type": "code",
   "execution_count": 88,
   "metadata": {},
   "outputs": [
    {
     "data": {
      "text/html": [
       "<div style=\"width:100%;\"><div style=\"position:relative;width:100%;height:0;padding-bottom:60%;\"><span style=\"color:#565656\">Make this Notebook Trusted to load map: File -> Trust Notebook</span><iframe src=\"about:blank\" style=\"position:absolute;width:100%;height:100%;left:0;top:0;border:none !important;\" data-html=%3C%21DOCTYPE%20html%3E%0A%3Chead%3E%20%20%20%20%0A%20%20%20%20%3Cmeta%20http-equiv%3D%22content-type%22%20content%3D%22text/html%3B%20charset%3DUTF-8%22%20/%3E%0A%20%20%20%20%0A%20%20%20%20%20%20%20%20%3Cscript%3E%0A%20%20%20%20%20%20%20%20%20%20%20%20L_NO_TOUCH%20%3D%20false%3B%0A%20%20%20%20%20%20%20%20%20%20%20%20L_DISABLE_3D%20%3D%20false%3B%0A%20%20%20%20%20%20%20%20%3C/script%3E%0A%20%20%20%20%0A%20%20%20%20%3Cstyle%3Ehtml%2C%20body%20%7Bwidth%3A%20100%25%3Bheight%3A%20100%25%3Bmargin%3A%200%3Bpadding%3A%200%3B%7D%3C/style%3E%0A%20%20%20%20%3Cstyle%3E%23map%20%7Bposition%3Aabsolute%3Btop%3A0%3Bbottom%3A0%3Bright%3A0%3Bleft%3A0%3B%7D%3C/style%3E%0A%20%20%20%20%3Cscript%20src%3D%22https%3A//cdn.jsdelivr.net/npm/leaflet%401.6.0/dist/leaflet.js%22%3E%3C/script%3E%0A%20%20%20%20%3Cscript%20src%3D%22https%3A//code.jquery.com/jquery-1.12.4.min.js%22%3E%3C/script%3E%0A%20%20%20%20%3Cscript%20src%3D%22https%3A//maxcdn.bootstrapcdn.com/bootstrap/3.2.0/js/bootstrap.min.js%22%3E%3C/script%3E%0A%20%20%20%20%3Cscript%20src%3D%22https%3A//cdnjs.cloudflare.com/ajax/libs/Leaflet.awesome-markers/2.0.2/leaflet.awesome-markers.js%22%3E%3C/script%3E%0A%20%20%20%20%3Clink%20rel%3D%22stylesheet%22%20href%3D%22https%3A//cdn.jsdelivr.net/npm/leaflet%401.6.0/dist/leaflet.css%22/%3E%0A%20%20%20%20%3Clink%20rel%3D%22stylesheet%22%20href%3D%22https%3A//maxcdn.bootstrapcdn.com/bootstrap/3.2.0/css/bootstrap.min.css%22/%3E%0A%20%20%20%20%3Clink%20rel%3D%22stylesheet%22%20href%3D%22https%3A//maxcdn.bootstrapcdn.com/bootstrap/3.2.0/css/bootstrap-theme.min.css%22/%3E%0A%20%20%20%20%3Clink%20rel%3D%22stylesheet%22%20href%3D%22https%3A//maxcdn.bootstrapcdn.com/font-awesome/4.6.3/css/font-awesome.min.css%22/%3E%0A%20%20%20%20%3Clink%20rel%3D%22stylesheet%22%20href%3D%22https%3A//cdnjs.cloudflare.com/ajax/libs/Leaflet.awesome-markers/2.0.2/leaflet.awesome-markers.css%22/%3E%0A%20%20%20%20%3Clink%20rel%3D%22stylesheet%22%20href%3D%22https%3A//cdn.jsdelivr.net/gh/python-visualization/folium/folium/templates/leaflet.awesome.rotate.min.css%22/%3E%0A%20%20%20%20%0A%20%20%20%20%20%20%20%20%20%20%20%20%3Cmeta%20name%3D%22viewport%22%20content%3D%22width%3Ddevice-width%2C%0A%20%20%20%20%20%20%20%20%20%20%20%20%20%20%20%20initial-scale%3D1.0%2C%20maximum-scale%3D1.0%2C%20user-scalable%3Dno%22%20/%3E%0A%20%20%20%20%20%20%20%20%20%20%20%20%3Cstyle%3E%0A%20%20%20%20%20%20%20%20%20%20%20%20%20%20%20%20%23map_71558dbb6ab844bebd4615fe9d73ef9e%20%7B%0A%20%20%20%20%20%20%20%20%20%20%20%20%20%20%20%20%20%20%20%20position%3A%20relative%3B%0A%20%20%20%20%20%20%20%20%20%20%20%20%20%20%20%20%20%20%20%20width%3A%20100.0%25%3B%0A%20%20%20%20%20%20%20%20%20%20%20%20%20%20%20%20%20%20%20%20height%3A%20100.0%25%3B%0A%20%20%20%20%20%20%20%20%20%20%20%20%20%20%20%20%20%20%20%20left%3A%200.0%25%3B%0A%20%20%20%20%20%20%20%20%20%20%20%20%20%20%20%20%20%20%20%20top%3A%200.0%25%3B%0A%20%20%20%20%20%20%20%20%20%20%20%20%20%20%20%20%7D%0A%20%20%20%20%20%20%20%20%20%20%20%20%3C/style%3E%0A%20%20%20%20%20%20%20%20%0A%3C/head%3E%0A%3Cbody%3E%20%20%20%20%0A%20%20%20%20%0A%20%20%20%20%20%20%20%20%20%20%20%20%3Cdiv%20class%3D%22folium-map%22%20id%3D%22map_71558dbb6ab844bebd4615fe9d73ef9e%22%20%3E%3C/div%3E%0A%20%20%20%20%20%20%20%20%0A%3C/body%3E%0A%3Cscript%3E%20%20%20%20%0A%20%20%20%20%0A%20%20%20%20%20%20%20%20%20%20%20%20var%20map_71558dbb6ab844bebd4615fe9d73ef9e%20%3D%20L.map%28%0A%20%20%20%20%20%20%20%20%20%20%20%20%20%20%20%20%22map_71558dbb6ab844bebd4615fe9d73ef9e%22%2C%0A%20%20%20%20%20%20%20%20%20%20%20%20%20%20%20%20%7B%0A%20%20%20%20%20%20%20%20%20%20%20%20%20%20%20%20%20%20%20%20center%3A%20%5B43.6532%2C%20-79.3832%5D%2C%0A%20%20%20%20%20%20%20%20%20%20%20%20%20%20%20%20%20%20%20%20crs%3A%20L.CRS.EPSG3857%2C%0A%20%20%20%20%20%20%20%20%20%20%20%20%20%20%20%20%20%20%20%20zoom%3A%2010%2C%0A%20%20%20%20%20%20%20%20%20%20%20%20%20%20%20%20%20%20%20%20zoomControl%3A%20true%2C%0A%20%20%20%20%20%20%20%20%20%20%20%20%20%20%20%20%20%20%20%20preferCanvas%3A%20false%2C%0A%20%20%20%20%20%20%20%20%20%20%20%20%20%20%20%20%7D%0A%20%20%20%20%20%20%20%20%20%20%20%20%29%3B%0A%0A%20%20%20%20%20%20%20%20%20%20%20%20%0A%0A%20%20%20%20%20%20%20%20%0A%20%20%20%20%0A%20%20%20%20%20%20%20%20%20%20%20%20var%20tile_layer_fbd48612979145c598a4d8be2de5f427%20%3D%20L.tileLayer%28%0A%20%20%20%20%20%20%20%20%20%20%20%20%20%20%20%20%22https%3A//%7Bs%7D.tile.openstreetmap.org/%7Bz%7D/%7Bx%7D/%7By%7D.png%22%2C%0A%20%20%20%20%20%20%20%20%20%20%20%20%20%20%20%20%7B%22attribution%22%3A%20%22Data%20by%20%5Cu0026copy%3B%20%5Cu003ca%20href%3D%5C%22http%3A//openstreetmap.org%5C%22%5Cu003eOpenStreetMap%5Cu003c/a%5Cu003e%2C%20under%20%5Cu003ca%20href%3D%5C%22http%3A//www.openstreetmap.org/copyright%5C%22%5Cu003eODbL%5Cu003c/a%5Cu003e.%22%2C%20%22detectRetina%22%3A%20false%2C%20%22maxNativeZoom%22%3A%2018%2C%20%22maxZoom%22%3A%2018%2C%20%22minZoom%22%3A%200%2C%20%22noWrap%22%3A%20false%2C%20%22opacity%22%3A%201%2C%20%22subdomains%22%3A%20%22abc%22%2C%20%22tms%22%3A%20false%7D%0A%20%20%20%20%20%20%20%20%20%20%20%20%29.addTo%28map_71558dbb6ab844bebd4615fe9d73ef9e%29%3B%0A%20%20%20%20%20%20%20%20%0A%3C/script%3E onload=\"this.contentDocument.open();this.contentDocument.write(    decodeURIComponent(this.getAttribute('data-html')));this.contentDocument.close();\" allowfullscreen webkitallowfullscreen mozallowfullscreen></iframe></div></div>"
      ],
      "text/plain": [
       "<folium.folium.Map at 0x1c0b4ef9bb0>"
      ]
     },
     "execution_count": 88,
     "metadata": {},
     "output_type": "execute_result"
    }
   ],
   "source": [
    "map_creation = folium.Map(location=[latitude, longitude], zoom_start=10)\n",
    "map_creation"
   ]
  },
  {
   "cell_type": "markdown",
   "metadata": {},
   "source": [
    "<h3>Week 2 - Prepare your data</h3>\n",
    "<p>\n",
    "Within this section we will be using the provide source to create a large dataframe which contains the neccessary information for the choosen correlations\n",
    "</p>"
   ]
  },
  {
   "cell_type": "code",
   "execution_count": 20,
   "metadata": {},
   "outputs": [
    {
     "data": {
      "text/plain": [
       "\"url='https://en.wikipedia.org/w/index.php?title=List_of_postal_codes_of_Canada:_M&oldid=945633050'\\ntemp = requests.get(url)\\ndata = temp.text\\nsoup = bs(data,'html.parser')\\nwiki = soup.find('table')\\ndf = pd.read_html(str(wiki))[0]\\ndf.head()\""
      ]
     },
     "execution_count": 20,
     "metadata": {},
     "output_type": "execute_result"
    }
   ],
   "source": [
    "\"\"\"url='https://en.wikipedia.org/w/index.php?title=List_of_postal_codes_of_Canada:_M&oldid=945633050'\n",
    "temp = requests.get(url)\n",
    "data = temp.text\n",
    "soup = bs(data,'html.parser')\n",
    "wiki = soup.find('table')\n",
    "df = pd.read_html(str(wiki))[0]\n",
    "df.head()\"\"\""
   ]
  },
  {
   "cell_type": "code",
   "execution_count": 21,
   "metadata": {},
   "outputs": [
    {
     "data": {
      "text/plain": [
       "\"df.drop(df[df['Borough'] == 'Not assigned'].index, inplace=True)\\ndf.index = range(len(df))\\ndf.head()\""
      ]
     },
     "execution_count": 21,
     "metadata": {},
     "output_type": "execute_result"
    }
   ],
   "source": [
    "\"\"\"df.drop(df[df['Borough'] == 'Not assigned'].index, inplace=True)\n",
    "df.index = range(len(df))\n",
    "df.head()\"\"\""
   ]
  },
  {
   "cell_type": "code",
   "execution_count": 17,
   "metadata": {},
   "outputs": [
    {
     "data": {
      "text/plain": [
       "'with open(\\'Crime_Rates.geojson\\') as f:\\n    data = geojson.load(f)\\ndf2=pd.json_normalize(data[\"features\"])\\ndf2=df2.drop(columns=[\"type\", \"geometry.type\", \"geometry.coordinates\", \"properties.OBJECTID\", \"properties.Shape__Area\", \"properties.Shape__Length\"])\\ndf2.head()'"
      ]
     },
     "execution_count": 17,
     "metadata": {},
     "output_type": "execute_result"
    }
   ],
   "source": [
    "'''with open('Crime_Rates.geojson') as f:\n",
    "    data = geojson.load(f)\n",
    "df2=pd.json_normalize(data[\"features\"])\n",
    "df2=df2.drop(columns=[\"type\", \"geometry.type\", \"geometry.coordinates\", \"properties.OBJECTID\", \"properties.Shape__Area\", \"properties.Shape__Length\"])\n",
    "df2.head()'''"
   ]
  }
 ],
 "metadata": {
  "kernelspec": {
   "display_name": "Python 3",
   "language": "python",
   "name": "python3"
  },
  "language_info": {
   "codemirror_mode": {
    "name": "ipython",
    "version": 3
   },
   "file_extension": ".py",
   "mimetype": "text/x-python",
   "name": "python",
   "nbconvert_exporter": "python",
   "pygments_lexer": "ipython3",
   "version": "3.8.5"
  }
 },
 "nbformat": 4,
 "nbformat_minor": 4
}
